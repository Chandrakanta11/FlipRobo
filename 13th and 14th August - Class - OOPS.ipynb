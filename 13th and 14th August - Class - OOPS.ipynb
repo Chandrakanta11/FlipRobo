{
 "cells": [
  {
   "cell_type": "markdown",
   "id": "4f962682",
   "metadata": {},
   "source": [
    "# OOPS - (Object Oriented Programming System)"
   ]
  },
  {
   "cell_type": "markdown",
   "id": "e8d702de",
   "metadata": {},
   "source": [
    "Class"
   ]
  },
  {
   "cell_type": "code",
   "execution_count": 1,
   "id": "c7c4d8e4",
   "metadata": {},
   "outputs": [],
   "source": [
    "class Student:\n",
    "    #initialisation/constructor      #self --->instance/object name\n",
    "    def __init__(self,rollno,name):\n",
    "        self.rollno = rollno\n",
    "        self.name = name\n",
    "        \n",
    "    def display(self):   #user defined function\n",
    "        print(\"Student rollno = \",self.rollno, \"and Name = \",self.name)\n",
    "    "
   ]
  },
  {
   "cell_type": "code",
   "execution_count": 2,
   "id": "36813b6d",
   "metadata": {},
   "outputs": [
    {
     "name": "stdout",
     "output_type": "stream",
     "text": [
      "Student rollno =  201 and Name =  John\n"
     ]
    }
   ],
   "source": [
    "#creating instance\n",
    "\n",
    "obj1 = Student(201,\"John\")  #this line will be automatically invoke the initialisation constructor\n",
    "\n",
    "obj1.display()     #user defimed functions is called explicity"
   ]
  },
  {
   "cell_type": "code",
   "execution_count": 3,
   "id": "8f535bb7",
   "metadata": {},
   "outputs": [
    {
     "name": "stdout",
     "output_type": "stream",
     "text": [
      "Student rollno =  202 and Name =  Andrew\n"
     ]
    }
   ],
   "source": [
    "stud1 = Student(202,\"Andrew\")     #this line will be automatically invoke the initialisation constructor\n",
    "\n",
    "stud1.display()"
   ]
  },
  {
   "cell_type": "code",
   "execution_count": 4,
   "id": "adda6936",
   "metadata": {},
   "outputs": [
    {
     "name": "stdout",
     "output_type": "stream",
     "text": [
      "Student rollno =  203 and Name =  Vijay\n"
     ]
    }
   ],
   "source": [
    "stud2 = Student(203,\"Vijay\")     #this line will be automatically invoke the initialisation constructor\n",
    "stud2.display()"
   ]
  },
  {
   "cell_type": "code",
   "execution_count": 14,
   "id": "d9da6a78",
   "metadata": {},
   "outputs": [],
   "source": [
    "class Employee:\n",
    "    revenue = 30000\n",
    "    def __init__(self,empno,name,sal):\n",
    "        self.empno= empno\n",
    "        self.name= name\n",
    "        self.sal= sal\n",
    "        \n",
    "    def display(self):\n",
    "        print(self.empno,\" \", self.name, \" \", self.sal)"
   ]
  },
  {
   "cell_type": "code",
   "execution_count": 15,
   "id": "1487db3e",
   "metadata": {},
   "outputs": [
    {
     "name": "stdout",
     "output_type": "stream",
     "text": [
      "101   Vijay   90000\n",
      "102   Dhanush   80000\n",
      "103   Kiara   70000\n"
     ]
    }
   ],
   "source": [
    "emp1 = Employee(101,\"Vijay\",   90000)\n",
    "emp1.display()\n",
    "\n",
    "emp2 = Employee(102,\"Dhanush\",80000)\n",
    "emp2.display()\n",
    "\n",
    "emp3 =Employee(103,\"Kiara\",   70000)\n",
    "emp3.display()"
   ]
  },
  {
   "cell_type": "code",
   "execution_count": 16,
   "id": "303ef5f3",
   "metadata": {},
   "outputs": [
    {
     "data": {
      "text/plain": [
       "90000"
      ]
     },
     "execution_count": 16,
     "metadata": {},
     "output_type": "execute_result"
    }
   ],
   "source": [
    "emp1.sal"
   ]
  },
  {
   "cell_type": "code",
   "execution_count": 17,
   "id": "535ebdc9",
   "metadata": {},
   "outputs": [
    {
     "data": {
      "text/plain": [
       "30000"
      ]
     },
     "execution_count": 17,
     "metadata": {},
     "output_type": "execute_result"
    }
   ],
   "source": [
    "Employee.revenue"
   ]
  },
  {
   "cell_type": "code",
   "execution_count": 21,
   "id": "af6ba017",
   "metadata": {},
   "outputs": [],
   "source": [
    "class car:\n",
    "    def  __init__(self,company,color):\n",
    "        self.company= company\n",
    "        self.color= color\n",
    "        \n",
    "        #function to print car, company and color\n",
    "        \n",
    "        def display(self):\n",
    "            print(\"This is a\",self.company,self.color)\n",
    "            "
   ]
  },
  {
   "cell_type": "code",
   "execution_count": 22,
   "id": "ee615439",
   "metadata": {},
   "outputs": [],
   "source": [
    "def main():\n",
    "    c= car(\"Ferrari\",\"Red\")\n",
    "    c.display()"
   ]
  },
  {
   "cell_type": "code",
   "execution_count": 26,
   "id": "078a013f",
   "metadata": {},
   "outputs": [
    {
     "ename": "AttributeError",
     "evalue": "'car' object has no attribute 'display'",
     "output_type": "error",
     "traceback": [
      "\u001b[1;31m---------------------------------------------------------------------------\u001b[0m",
      "\u001b[1;31mAttributeError\u001b[0m                            Traceback (most recent call last)",
      "Input \u001b[1;32mIn [26]\u001b[0m, in \u001b[0;36m<cell line: 1>\u001b[1;34m()\u001b[0m\n\u001b[0;32m      1\u001b[0m \u001b[38;5;28;01mif\u001b[39;00m \u001b[38;5;18m__name__\u001b[39m \u001b[38;5;241m==\u001b[39m\u001b[38;5;124m\"\u001b[39m\u001b[38;5;124m__main__\u001b[39m\u001b[38;5;124m\"\u001b[39m:\n\u001b[1;32m----> 2\u001b[0m     \u001b[43mmain\u001b[49m\u001b[43m(\u001b[49m\u001b[43m)\u001b[49m\n",
      "Input \u001b[1;32mIn [22]\u001b[0m, in \u001b[0;36mmain\u001b[1;34m()\u001b[0m\n\u001b[0;32m      1\u001b[0m \u001b[38;5;28;01mdef\u001b[39;00m \u001b[38;5;21mmain\u001b[39m():\n\u001b[0;32m      2\u001b[0m     c\u001b[38;5;241m=\u001b[39m car(\u001b[38;5;124m\"\u001b[39m\u001b[38;5;124mFerrai\u001b[39m\u001b[38;5;124m\"\u001b[39m,\u001b[38;5;124m\"\u001b[39m\u001b[38;5;124mRed\u001b[39m\u001b[38;5;124m\"\u001b[39m)\n\u001b[1;32m----> 3\u001b[0m     \u001b[43mc\u001b[49m\u001b[38;5;241;43m.\u001b[39;49m\u001b[43mdisplay\u001b[49m()\n",
      "\u001b[1;31mAttributeError\u001b[0m: 'car' object has no attribute 'display'"
     ]
    }
   ],
   "source": [
    "if __name__ ==\"__main__\":\n",
    "    main()"
   ]
  },
  {
   "cell_type": "markdown",
   "id": "2b183d4c",
   "metadata": {},
   "source": [
    "# Package"
   ]
  },
  {
   "cell_type": "code",
   "execution_count": 1,
   "id": "99ed8747",
   "metadata": {},
   "outputs": [],
   "source": [
    "import math"
   ]
  },
  {
   "cell_type": "code",
   "execution_count": 2,
   "id": "2fccbf61",
   "metadata": {},
   "outputs": [
    {
     "data": {
      "text/plain": [
       "3.141592653589793"
      ]
     },
     "execution_count": 2,
     "metadata": {},
     "output_type": "execute_result"
    }
   ],
   "source": [
    "math.pi"
   ]
  },
  {
   "cell_type": "code",
   "execution_count": 3,
   "id": "e1cf9476",
   "metadata": {},
   "outputs": [
    {
     "data": {
      "text/plain": [
       "8.0"
      ]
     },
     "execution_count": 3,
     "metadata": {},
     "output_type": "execute_result"
    }
   ],
   "source": [
    "math.sqrt(64)"
   ]
  },
  {
   "cell_type": "code",
   "execution_count": 4,
   "id": "07f1cedb",
   "metadata": {},
   "outputs": [
    {
     "data": {
      "text/plain": [
       "8.0"
      ]
     },
     "execution_count": 4,
     "metadata": {},
     "output_type": "execute_result"
    }
   ],
   "source": [
    "math.pow(2,3)"
   ]
  },
  {
   "cell_type": "code",
   "execution_count": 6,
   "id": "f0e31970",
   "metadata": {},
   "outputs": [],
   "source": [
    "r= 10"
   ]
  },
  {
   "cell_type": "code",
   "execution_count": 7,
   "id": "a977526b",
   "metadata": {},
   "outputs": [],
   "source": [
    "aoc= math.pi*(math.pow(r,2))"
   ]
  },
  {
   "cell_type": "code",
   "execution_count": 8,
   "id": "feb0790e",
   "metadata": {},
   "outputs": [
    {
     "data": {
      "text/plain": [
       "314.1592653589793"
      ]
     },
     "execution_count": 8,
     "metadata": {},
     "output_type": "execute_result"
    }
   ],
   "source": [
    "aoc"
   ]
  },
  {
   "cell_type": "code",
   "execution_count": 9,
   "id": "90e8d192",
   "metadata": {},
   "outputs": [
    {
     "data": {
      "text/plain": [
       "314.16"
      ]
     },
     "execution_count": 9,
     "metadata": {},
     "output_type": "execute_result"
    }
   ],
   "source": [
    "round(aoc,2)"
   ]
  },
  {
   "cell_type": "code",
   "execution_count": 14,
   "id": "d7d870ab",
   "metadata": {},
   "outputs": [
    {
     "name": "stdout",
     "output_type": "stream",
     "text": [
      "Enter any value 81\n"
     ]
    },
    {
     "data": {
      "text/plain": [
       "9.0"
      ]
     },
     "execution_count": 14,
     "metadata": {},
     "output_type": "execute_result"
    }
   ],
   "source": [
    "def find_sqrt(x):\n",
    "    return math.sqrt(x)\n",
    "\n",
    "x= int(input(\"Enter any value \"))\n",
    "find_sqrt(x)"
   ]
  },
  {
   "cell_type": "code",
   "execution_count": 16,
   "id": "c1fd5c47",
   "metadata": {},
   "outputs": [
    {
     "name": "stdout",
     "output_type": "stream",
     "text": [
      "Enter any value 2\n",
      "Enter any value 4\n"
     ]
    },
    {
     "data": {
      "text/plain": [
       "16.0"
      ]
     },
     "execution_count": 16,
     "metadata": {},
     "output_type": "execute_result"
    }
   ],
   "source": [
    "def func_power(a,b):\n",
    "    return math.pow(a,b)\n",
    "\n",
    "a= int(input(\"Enter any value \"))\n",
    "b= int(input(\"Enter any value \"))\n",
    "func_power(a,b)"
   ]
  },
  {
   "cell_type": "code",
   "execution_count": 17,
   "id": "3b3d8adc",
   "metadata": {},
   "outputs": [],
   "source": [
    "import math as mt"
   ]
  },
  {
   "cell_type": "code",
   "execution_count": 18,
   "id": "9ba73580",
   "metadata": {},
   "outputs": [
    {
     "data": {
      "text/plain": [
       "3.141592653589793"
      ]
     },
     "execution_count": 18,
     "metadata": {},
     "output_type": "execute_result"
    }
   ],
   "source": [
    "mt.pi"
   ]
  },
  {
   "cell_type": "code",
   "execution_count": 19,
   "id": "872a0f49",
   "metadata": {},
   "outputs": [
    {
     "data": {
      "text/plain": [
       "3.142"
      ]
     },
     "execution_count": 19,
     "metadata": {},
     "output_type": "execute_result"
    }
   ],
   "source": [
    "round(mt.pi,3)"
   ]
  },
  {
   "cell_type": "code",
   "execution_count": 21,
   "id": "028d38e4",
   "metadata": {},
   "outputs": [
    {
     "data": {
      "text/plain": [
       "dict_keys(['__name__', '__doc__', '__package__', '__loader__', '__spec__', 'acos', 'acosh', 'asin', 'asinh', 'atan', 'atan2', 'atanh', 'ceil', 'copysign', 'cos', 'cosh', 'degrees', 'dist', 'erf', 'erfc', 'exp', 'expm1', 'fabs', 'factorial', 'floor', 'fmod', 'frexp', 'fsum', 'gamma', 'gcd', 'hypot', 'isclose', 'isfinite', 'isinf', 'isnan', 'isqrt', 'lcm', 'ldexp', 'lgamma', 'log', 'log1p', 'log10', 'log2', 'modf', 'pow', 'radians', 'remainder', 'sin', 'sinh', 'sqrt', 'tan', 'tanh', 'trunc', 'prod', 'perm', 'comb', 'nextafter', 'ulp', 'pi', 'e', 'tau', 'inf', 'nan'])"
      ]
     },
     "execution_count": 21,
     "metadata": {},
     "output_type": "execute_result"
    }
   ],
   "source": [
    "math.__dict__.keys()"
   ]
  },
  {
   "cell_type": "markdown",
   "id": "a5266bac",
   "metadata": {},
   "source": [
    "GET TIME AND DATE"
   ]
  },
  {
   "cell_type": "code",
   "execution_count": 22,
   "id": "4102d0fa",
   "metadata": {},
   "outputs": [],
   "source": [
    "import datetime"
   ]
  },
  {
   "cell_type": "code",
   "execution_count": 23,
   "id": "1b7e8eb2",
   "metadata": {},
   "outputs": [],
   "source": [
    "dt = datetime.datetime.now()"
   ]
  },
  {
   "cell_type": "code",
   "execution_count": 24,
   "id": "b5313bb5",
   "metadata": {},
   "outputs": [
    {
     "data": {
      "text/plain": [
       "datetime.datetime(2022, 8, 14, 12, 26, 35, 355559)"
      ]
     },
     "execution_count": 24,
     "metadata": {},
     "output_type": "execute_result"
    }
   ],
   "source": [
    "dt"
   ]
  },
  {
   "cell_type": "markdown",
   "id": "31dabb96",
   "metadata": {},
   "source": [
    "Get Date"
   ]
  },
  {
   "cell_type": "code",
   "execution_count": 25,
   "id": "7ba47378",
   "metadata": {},
   "outputs": [],
   "source": [
    "dt1 = datetime.date.today()"
   ]
  },
  {
   "cell_type": "code",
   "execution_count": 26,
   "id": "fdd1bb88",
   "metadata": {},
   "outputs": [
    {
     "data": {
      "text/plain": [
       "datetime.date(2022, 8, 14)"
      ]
     },
     "execution_count": 26,
     "metadata": {},
     "output_type": "execute_result"
    }
   ],
   "source": [
    "dt1"
   ]
  },
  {
   "cell_type": "markdown",
   "id": "d1c127d5",
   "metadata": {},
   "source": [
    "Commonly used classes in the date time module are:\n",
    "    \n",
    "    date class\n",
    "    time class\n",
    "    datetime class\n",
    "    timedelta class"
   ]
  },
  {
   "cell_type": "code",
   "execution_count": 29,
   "id": "2a1d08f3",
   "metadata": {},
   "outputs": [
    {
     "data": {
      "text/plain": [
       "datetime.date(2022, 8, 14)"
      ]
     },
     "execution_count": 29,
     "metadata": {},
     "output_type": "execute_result"
    }
   ],
   "source": [
    "import datetime\n",
    "d = datetime.date(2022,8,14)\n",
    "d"
   ]
  },
  {
   "cell_type": "code",
   "execution_count": 1,
   "id": "944f9809",
   "metadata": {},
   "outputs": [
    {
     "ename": "NameError",
     "evalue": "name 'date' is not defined",
     "output_type": "error",
     "traceback": [
      "\u001b[1;31m---------------------------------------------------------------------------\u001b[0m",
      "\u001b[1;31mNameError\u001b[0m                                 Traceback (most recent call last)",
      "Input \u001b[1;32mIn [1]\u001b[0m, in \u001b[0;36m<cell line: 1>\u001b[1;34m()\u001b[0m\n\u001b[1;32m----> 1\u001b[0m td \u001b[38;5;241m=\u001b[39m \u001b[43mdate\u001b[49m\u001b[38;5;241m.\u001b[39mtoday(\u001b[38;5;241m2022\u001b[39m,\u001b[38;5;241m5\u001b[39m,\u001b[38;5;241m15\u001b[39m)\n\u001b[0;32m      2\u001b[0m td()\n\u001b[0;32m      4\u001b[0m \u001b[38;5;28mprint\u001b[39m(\u001b[38;5;124m\"\u001b[39m\u001b[38;5;124mYear =\u001b[39m\u001b[38;5;124m\"\u001b[39m, td\u001b[38;5;241m.\u001b[39myear)\n",
      "\u001b[1;31mNameError\u001b[0m: name 'date' is not defined"
     ]
    }
   ],
   "source": [
    "td = date.today(2022,5,15)\n",
    "td()\n",
    "\n",
    "print(\"Year =\", td.year)\n",
    "print(\"Month = \",td.month)\n",
    "print(\"Day = \", td.day )"
   ]
  },
  {
   "cell_type": "code",
   "execution_count": 7,
   "id": "92835f68",
   "metadata": {},
   "outputs": [
    {
     "name": "stdout",
     "output_type": "stream",
     "text": [
      "00:00:00\n",
      "11:35:56\n"
     ]
    }
   ],
   "source": [
    "from datetime import time\n",
    "a= time()\n",
    "print(a)\n",
    "\n",
    "b= time(11,35,56)\n",
    "print(b)"
   ]
  },
  {
   "cell_type": "code",
   "execution_count": 8,
   "id": "d686189a",
   "metadata": {},
   "outputs": [
    {
     "ename": "NameError",
     "evalue": "name 'datetime' is not defined",
     "output_type": "error",
     "traceback": [
      "\u001b[1;31m---------------------------------------------------------------------------\u001b[0m",
      "\u001b[1;31mNameError\u001b[0m                                 Traceback (most recent call last)",
      "Input \u001b[1;32mIn [8]\u001b[0m, in \u001b[0;36m<cell line: 1>\u001b[1;34m()\u001b[0m\n\u001b[1;32m----> 1\u001b[0m b\u001b[38;5;241m=\u001b[39m \u001b[43mdatetime\u001b[49m(\u001b[38;5;241m2022\u001b[39m,\u001b[38;5;241m8\u001b[39m,\u001b[38;5;241m14\u001b[39m,\u001b[38;5;241m12\u001b[39m,\u001b[38;5;241m47\u001b[39m,\u001b[38;5;241m56\u001b[39m)\n\u001b[0;32m      2\u001b[0m \u001b[38;5;28mprint\u001b[39m(b\u001b[38;5;241m.\u001b[39myear)\n\u001b[0;32m      3\u001b[0m \u001b[38;5;28mprint\u001b[39m(b\u001b[38;5;241m.\u001b[39mmonth)\n",
      "\u001b[1;31mNameError\u001b[0m: name 'datetime' is not defined"
     ]
    }
   ],
   "source": [
    "b= datetime(2022,8,14,12,47,56)\n",
    "print(b.year)\n",
    "print(b.month)\n",
    "print(b.day)\n",
    "print(b.hour)\n",
    "print(b.minutes)\n",
    "print(b.seconds)"
   ]
  },
  {
   "cell_type": "code",
   "execution_count": null,
   "id": "643b63bb",
   "metadata": {},
   "outputs": [],
   "source": []
  }
 ],
 "metadata": {
  "kernelspec": {
   "display_name": "Python 3 (ipykernel)",
   "language": "python",
   "name": "python3"
  },
  "language_info": {
   "codemirror_mode": {
    "name": "ipython",
    "version": 3
   },
   "file_extension": ".py",
   "mimetype": "text/x-python",
   "name": "python",
   "nbconvert_exporter": "python",
   "pygments_lexer": "ipython3",
   "version": "3.9.12"
  }
 },
 "nbformat": 4,
 "nbformat_minor": 5
}
